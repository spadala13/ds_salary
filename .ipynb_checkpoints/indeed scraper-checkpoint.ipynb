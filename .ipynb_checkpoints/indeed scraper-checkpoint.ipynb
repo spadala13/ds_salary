{
 "cells": [
  {
   "cell_type": "code",
   "execution_count": 10,
   "id": "8ea30a13",
   "metadata": {
    "scrolled": true
   },
   "outputs": [],
   "source": [
    "import requests\n",
    "from bs4 import BeautifulSoup\n",
    "import pandas as pd"
   ]
  },
  {
   "cell_type": "code",
   "execution_count": 15,
   "id": "51b6a8eb",
   "metadata": {
    "scrolled": true
   },
   "outputs": [
    {
     "name": "stdout",
     "output_type": "stream",
     "text": [
      "0\n"
     ]
    }
   ],
   "source": [
    "\n",
    "#sending a get request to this url\n",
    "\n",
    "def extract(page):\n",
    "    headers = {'User-Agent': 'Mozilla/5.0 (Macintosh; Intel Mac OS X 10_15_7) AppleWebKit/537.36 (KHTML, like Gecko) Chrome/93.0.4577.63 Safari/537.36'}\n",
    "    url = f'https://ca.indeed.com/jobs?q=data%20science&l=Canada&start={page}'\n",
    "    r = requests.get(url, headers) \n",
    "    soup = BeautifulSoup(r.content, 'html.parser')\n",
    "    return soup\n",
    "    \n",
    "\n",
    "joblist = []\n",
    "    \n",
    "#getting the HTML data\n",
    "def transform(soup):\n",
    "    divs = soup.find_all('a', class_=\"result\")\n",
    "    print(len(divs))\n",
    "    \n",
    "    for item in divs:\n",
    "        title = item.find('h2').text.strip('new')\n",
    "        company = item.find('span', class_='companyName').text.strip()\n",
    "        location = item.find('div', class_='companyLocation').text.strip()\n",
    "        \n",
    "        try:\n",
    "            salary = item.find('span', class_='salary-snippet').text\n",
    "        except:\n",
    "            salary = ''\n",
    "            \n",
    "        summary = item.find('div', class_='job-snippet').text.replace('\\n', '')\n",
    "        \n",
    "        #storing it in dictionary\n",
    "        job = {\n",
    "            'title': title,\n",
    "            'company': company,\n",
    "            'location': location,\n",
    "            'salary': salary,\n",
    "            'summary': summary\n",
    "        }\n",
    "        joblist.append(job)\n",
    "    return\n",
    "\n",
    "\n",
    "\n",
    "c = extract(0)\n",
    "transform(c)\n",
    "\n",
    "#df = pd.DataFrame(joblist)\n",
    "#print(df.head())\n",
    "\n",
    "#df.to_csv('dsjobs.csv')\n",
    "\n",
    "\n",
    "\n",
    "    "
   ]
  },
  {
   "cell_type": "code",
   "execution_count": null,
   "id": "fe2e8e66",
   "metadata": {},
   "outputs": [],
   "source": []
  },
  {
   "cell_type": "code",
   "execution_count": null,
   "id": "ff0b17ec",
   "metadata": {},
   "outputs": [],
   "source": []
  },
  {
   "cell_type": "code",
   "execution_count": null,
   "id": "ba90c290",
   "metadata": {},
   "outputs": [],
   "source": []
  },
  {
   "cell_type": "code",
   "execution_count": null,
   "id": "6a8ff8bf",
   "metadata": {},
   "outputs": [],
   "source": []
  }
 ],
 "metadata": {
  "kernelspec": {
   "display_name": "Python 3",
   "language": "python",
   "name": "python3"
  },
  "language_info": {
   "codemirror_mode": {
    "name": "ipython",
    "version": 3
   },
   "file_extension": ".py",
   "mimetype": "text/x-python",
   "name": "python",
   "nbconvert_exporter": "python",
   "pygments_lexer": "ipython3",
   "version": "3.8.8"
  }
 },
 "nbformat": 4,
 "nbformat_minor": 5
}
